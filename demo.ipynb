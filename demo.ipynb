{
 "cells": [
  {
   "cell_type": "code",
   "execution_count": null,
   "id": "6a8fc05b",
   "metadata": {},
   "outputs": [],
   "source": [
    "!pip install numpy matplotlib ipywidgets --quiet\n",
    "import numpy as np\n",
    "import matplotlib.pyplot as plt\n",
    "import ipywidgets as widgets\n",
    "from IPython.display import display"
   ]
  },
  {
   "cell_type": "markdown",
   "id": "51269d3d",
   "metadata": {},
   "source": [
    "# 🫀 Breathing Membrane Demo\n",
    "Interactively explore how the **amplitude** of the BMQM membrane changes with breathing time $\\tau$.\n",
    "\n",
    "Equation:\n",
    "$$ \\psi(\\tau, x) = A \\cdot \\sin(\\sigma \\tau) \\cdot \\cos(x^2) $$\n",
    "where $\\sigma \\approx 1.7365$ is the **Sionic Constant**.\n"
   ]
  },
  {
   "cell_type": "code",
   "execution_count": null,
   "id": "9e2f1412",
   "metadata": {},
   "outputs": [],
   "source": [
    "σ = 1.7365\n",
    "\n",
    "def breathing_membrane(A=1.0, τ=0.0):\n",
    "    x = np.linspace(-5, 5, 400)\n",
    "    ψ = A * np.sin(σ * τ) * np.cos(x**2)\n",
    "    plt.figure(figsize=(10, 4))\n",
    "    plt.plot(x, ψ, label=fr'$\\\\psi(\\\\tau, x) = {A}\\\\cdot \\\\sin({σ:.4f} \\\\cdot \\\\tau) \\\\cdot \\\\cos(x^2)$')\n",
    "    plt.title('Breathing Membrane Profile')\n",
    "    plt.xlabel('x')\n",
    "    plt.ylabel('ψ(τ, x)')\n",
    "    plt.grid(True)\n",
    "    plt.legend()\n",
    "    plt.tight_layout()\n",
    "    plt.show()\n",
    "\n",
    "widgets.interact(breathing_membrane, A=(0.1, 2.0, 0.1), τ=(0.0, 10.0, 0.1))"
   ]
  }
 ],
 "metadata": {},
 "nbformat": 4,
 "nbformat_minor": 5
}
