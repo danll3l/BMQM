{
 "cells": [
  {
   "cell_type": "code",
   "execution_count": null,
   "id": "36280d4c",
   "metadata": {},
   "outputs": [],
   "source": [
    "# ✅ Install dependencies (only needed on Binder or fresh environment)\n",
    "!pip install --quiet numpy matplotlib ipywidgets\n",
    "import numpy as np\n",
    "import matplotlib.pyplot as plt\n",
    "import ipywidgets as widgets\n",
    "from IPython.display import display"
   ]
  },
  {
   "cell_type": "markdown",
   "id": "8310324d",
   "metadata": {},
   "source": [
    "# 🫀 Breathing Membrane Simulation\n",
    "Explore how the **amplitude** of the breathing membrane evolves with time $\\tau$.\n",
    "\n",
    "This demo uses the expression:\n",
    "$$ \\psi(\\tau, x) = A \\cdot \\sin(\\sigma \\tau) \\cdot \\cos(x^2) $$\n",
    "with $\\sigma = 1.7365$, the **Sionic Constant**."
   ]
  },
  {
   "cell_type": "code",
   "execution_count": null,
   "id": "b8aa94d3",
   "metadata": {},
   "outputs": [],
   "source": [
    "σ = 1.7365\n",
    "\n",
    "def breathing_membrane(A=1.0, τ=0.0):\n",
    "    x = np.linspace(-5, 5, 400)\n",
    "    ψ = A * np.sin(σ * τ) * np.cos(x**2)\n",
    "    fig, ax = plt.subplots(figsize=(10, 4))\n",
    "    ax.plot(x, ψ)\n",
    "    ax.set_title('Breathing Membrane Profile')\n",
    "    ax.set_xlabel('x')\n",
    "    ax.set_ylabel('ψ(τ, x)')\n",
    "    ax.grid(True)\n",
    "    plt.show()\n",
    "\n",
    "widgets.interact(breathing_membrane, A=(0.1, 2.0, 0.1), τ=(0.0, 10.0, 0.1))"
   ]
  }
 ],
 "metadata": {},
 "nbformat": 4,
 "nbformat_minor": 5
}
